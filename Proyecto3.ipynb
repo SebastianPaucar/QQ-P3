{
 "cells": [
  {
   "cell_type": "markdown",
   "metadata": {},
   "source": [
    "OHO"
   ]
  },
  {
   "cell_type": "code",
   "execution_count": 67,
   "metadata": {},
   "outputs": [],
   "source": [
    "from qiskit import QuantumCircuit, QuantumRegister, ClassicalRegister, Aer, transpile, assemble, execute\n",
    "from qiskit.providers.aer.library import save_statevector\n",
    "from qiskit.quantum_info import Statevector, Operator\n",
    "from qiskit.visualization import array_to_latex\n",
    "from scipy.linalg import expm\n",
    "from fable import fable\n",
    "import numpy as np\n",
    "import random"
   ]
  },
  {
   "cell_type": "code",
   "execution_count": 68,
   "metadata": {},
   "outputs": [
    {
     "data": {
      "text/plain": [
       "False"
      ]
     },
     "execution_count": 68,
     "metadata": {},
     "output_type": "execute_result"
    }
   ],
   "source": [
    "psi = Statevector.from_label(\"0\")\n",
    "A = Operator(np.outer(np.conjugate(psi), psi))\n",
    "A.is_unitary()"
   ]
  },
  {
   "cell_type": "code",
   "execution_count": 69,
   "metadata": {},
   "outputs": [],
   "source": [
    "A = np.asarray(A)\n",
    "circ, alpha = fable(A, 0)\n",
    "for i in range(2):\n",
    "    circ.add_register(ClassicalRegister(1))"
   ]
  },
  {
   "cell_type": "code",
   "execution_count": 70,
   "metadata": {},
   "outputs": [
    {
     "data": {
      "image/png": "[encoded data removed]",
      "text/plain": [
       "<Figure size 1207.22x451.5 with 1 Axes>"
      ]
     },
     "execution_count": 70,
     "metadata": {},
     "output_type": "execute_result"
    }
   ],
   "source": [
    "circ.barrier()\n",
    "circ.measure([1, 2], [0, 1])\n",
    "circ.draw(\"mpl\")"
   ]
  },
  {
   "cell_type": "code",
   "execution_count": 97,
   "metadata": {},
   "outputs": [],
   "source": [
    "nshots = 10\n",
    "eps = 1e-10"
   ]
  },
  {
   "cell_type": "code",
   "execution_count": 72,
   "metadata": {},
   "outputs": [],
   "source": [
    "backend = Aer.get_backend(\"statevector_simulator\")\n",
    "circ.save_statevector(label = 'test', pershot = True)\n",
    "result = execute(circ, backend = backend, shots = nshots).result()\n",
    "states = []\n",
    "            \n",
    "    "
   ]
  },
  {
   "cell_type": "code",
   "execution_count": 92,
   "metadata": {},
   "outputs": [
    {
     "name": "stdout",
     "output_type": "stream",
     "text": [
      "[Statevector([ 0.00000000e+00+0.j,  0.00000000e+00+0.j,  0.00000000e+00+0.j,\n",
      "              0.00000000e+00+0.j, -7.85046229e-17+0.j,  1.00000000e+00+0.j,\n",
      "             -0.00000000e+00+0.j,  0.00000000e+00+0.j],\n",
      "            dims=(2, 2, 2)), Statevector([ 0.00000000e+00+0.j,  0.00000000e+00+0.j,  0.00000000e+00+0.j,\n",
      "              0.00000000e+00+0.j, -0.00000000e+00+0.j,  0.00000000e+00+0.j,\n",
      "             -7.85046229e-17+0.j,  1.00000000e+00+0.j],\n",
      "            dims=(2, 2, 2)), Statevector([ 1.00000000e+00+0.j,  3.92523115e-17+0.j,  0.00000000e+00+0.j,\n",
      "              0.00000000e+00+0.j, -0.00000000e+00+0.j,  0.00000000e+00+0.j,\n",
      "             -0.00000000e+00+0.j,  0.00000000e+00+0.j],\n",
      "            dims=(2, 2, 2)), Statevector([ 1.00000000e+00+0.j,  3.92523115e-17+0.j,  0.00000000e+00+0.j,\n",
      "              0.00000000e+00+0.j, -0.00000000e+00+0.j,  0.00000000e+00+0.j,\n",
      "             -0.00000000e+00+0.j,  0.00000000e+00+0.j],\n",
      "            dims=(2, 2, 2)), Statevector([ 0.00000000e+00+0.j,  0.00000000e+00+0.j,  0.00000000e+00+0.j,\n",
      "              0.00000000e+00+0.j, -7.85046229e-17+0.j,  1.00000000e+00+0.j,\n",
      "             -0.00000000e+00+0.j,  0.00000000e+00+0.j],\n",
      "            dims=(2, 2, 2)), Statevector([ 0.00000000e+00+0.j,  0.00000000e+00+0.j,  1.00000000e+00+0.j,\n",
      "              3.92523115e-17+0.j, -0.00000000e+00+0.j,  0.00000000e+00+0.j,\n",
      "             -0.00000000e+00+0.j,  0.00000000e+00+0.j],\n",
      "            dims=(2, 2, 2)), Statevector([ 1.00000000e+00+0.j,  3.92523115e-17+0.j,  0.00000000e+00+0.j,\n",
      "              0.00000000e+00+0.j, -0.00000000e+00+0.j,  0.00000000e+00+0.j,\n",
      "             -0.00000000e+00+0.j,  0.00000000e+00+0.j],\n",
      "            dims=(2, 2, 2)), Statevector([ 0.00000000e+00+0.j,  0.00000000e+00+0.j,  1.00000000e+00+0.j,\n",
      "              3.92523115e-17+0.j, -0.00000000e+00+0.j,  0.00000000e+00+0.j,\n",
      "             -0.00000000e+00+0.j,  0.00000000e+00+0.j],\n",
      "            dims=(2, 2, 2)), Statevector([ 0.00000000e+00+0.j,  0.00000000e+00+0.j,  0.00000000e+00+0.j,\n",
      "              0.00000000e+00+0.j, -7.85046229e-17+0.j,  1.00000000e+00+0.j,\n",
      "             -0.00000000e+00+0.j,  0.00000000e+00+0.j],\n",
      "            dims=(2, 2, 2)), Statevector([ 0.00000000e+00+0.j,  0.00000000e+00+0.j,  0.00000000e+00+0.j,\n",
      "              0.00000000e+00+0.j, -0.00000000e+00+0.j,  0.00000000e+00+0.j,\n",
      "             -7.85046229e-17+0.j,  1.00000000e+00+0.j],\n",
      "            dims=(2, 2, 2))]\n"
     ]
    }
   ],
   "source": [
    "print( result.data(0)['test'])"
   ]
  },
  {
   "cell_type": "code",
   "execution_count": 99,
   "metadata": {},
   "outputs": [],
   "source": [
    "for i in range(nshots):\n",
    "        rdata = result.data(0)['test'][:][i].data\n",
    "        if all(abs(j) <= eps for j in rdata[1:]):\n",
    "            psi = result.data(0)['test'][:][i]\n"
   ]
  },
  {
   "cell_type": "code",
   "execution_count": 100,
   "metadata": {},
   "outputs": [
    {
     "name": "stdout",
     "output_type": "stream",
     "text": [
      "(0.125+0j)\n"
     ]
    }
   ],
   "source": [
    "print(np.average(psi, axis = 0))"
   ]
  },
  {
   "cell_type": "code",
   "execution_count": 104,
   "metadata": {},
   "outputs": [
    {
     "name": "stdout",
     "output_type": "stream",
     "text": [
      "[[-10.  +0.j  -1.  +0.j  -1.  +0.j ...   0.  +0.j   0.  +0.j   0.  +0.j]\n",
      " [ -1.  +0.j  -6.  +0.j  -1.75+0.j ...   0.  +0.j   0.  +0.j   0.  +0.j]\n",
      " [ -1.  +0.j  -1.75+0.j  -2.  +0.j ...   0.  +0.j   0.  +0.j   0.  +0.j]\n",
      " ...\n",
      " [  0.  +0.j   0.  +0.j   0.  +0.j ...  -2.  +0.j  -1.75+0.j  -1.  +0.j]\n",
      " [  0.  +0.j   0.  +0.j   0.  +0.j ...  -1.75+0.j  -6.  +0.j  -1.  +0.j]\n",
      " [  0.  +0.j   0.  +0.j   0.  +0.j ...  -1.  +0.j  -1.  +0.j -10.  +0.j]]\n"
     ]
    }
   ],
   "source": [
    "N = 6 # NÚMERO DE ESPINES\n",
    "h = 1.0 #INTENSIDAD DEL CAMPO TRANSVERSAL\n",
    "jx = 0.5 # INTERACCIÓN DE INTERCAMBIO EN X\n",
    "jy = 1.25 # INTERACCIÓN DE INTERCAMBIO EN Y\n",
    "jz = 2.0 # INTERACCIÓN DE INTERCAMBIO EN Z\n",
    "H_heisenberg = transverse_field_heisenberg(N, h, jx, jy, jz)\n",
    "print(H_heisenberg)"
   ]
  },
  {
   "cell_type": "code",
   "execution_count": 108,
   "metadata": {},
   "outputs": [],
   "source": [
    "k = 0.5\n",
    "T = 1\n",
    "beta = 1/(k*T)"
   ]
  },
  {
   "cell_type": "code",
   "execution_count": 117,
   "metadata": {},
   "outputs": [],
   "source": [
    "Q = Qop(beta,H_heisenberg)"
   ]
  },
  {
   "cell_type": "code",
   "execution_count": 118,
   "metadata": {},
   "outputs": [
    {
     "name": "stdout",
     "output_type": "stream",
     "text": [
      "[[  7450958.46746593+0.j  -4203296.72636264+0.j -13354578.3683846 +0.j\n",
      "  ... -13324440.52033561+0.j  -4213354.68173046+0.j\n",
      "    7432527.72625436+0.j]\n",
      " [ -4203296.72636265+0.j  25806907.51808167+0.j -26526163.49711436+0.j\n",
      "  ...  41527683.82691811+0.j -21029498.42546488+0.j\n",
      "   -4213354.68173043+0.j]\n",
      " [-13354578.36838458+0.j -26526163.4971144 +0.j  74206754.55370486+0.j\n",
      "  ... -25031029.71226855+0.j  41527683.82691821+0.j\n",
      "  -13324440.52033567+0.j]\n",
      " ...\n",
      " [-13324440.5203356 +0.j  41527683.82691804+0.j -25031029.71226846+0.j\n",
      "  ...  74206754.5537045 +0.j -26526163.49711432+0.j\n",
      "  -13354578.36838453+0.j]\n",
      " [ -4213354.68173045+0.j -21029498.4254649 +0.j  41527683.82691821+0.j\n",
      "  ... -26526163.49711438+0.j  25806907.5180817 +0.j\n",
      "   -4203296.72636267+0.j]\n",
      " [  7432527.72625435+0.j  -4213354.68173042+0.j -13324440.52033567+0.j\n",
      "  ... -13354578.36838453+0.j  -4203296.72636268+0.j\n",
      "    7450958.46746593+0.j]]\n"
     ]
    }
   ],
   "source": [
    "print(Q)"
   ]
  },
  {
   "cell_type": "code",
   "execution_count": 116,
   "metadata": {},
   "outputs": [],
   "source": [
    "def Qop(beta,H):\n",
    "    return(expm(H*beta))"
   ]
  },
  {
   "cell_type": "code",
   "execution_count": null,
   "metadata": {},
   "outputs": [],
   "source": [
    "def BCcirc(Q,circHaar):\n",
    "    Q = np.asarray(Q)\n",
    "    circ, alpha = fable(Q,0)\n",
    "    qc = circHaar.compose(circ)\n",
    "    return qc"
   ]
  },
  {
   "cell_type": "code",
   "execution_count": null,
   "metadata": {},
   "outputs": [],
   "source": [
    "def circ_haar_1d(qc,n1d):\n",
    "    for j in range (n1d): qc.append(haar_random_gate, [j])\n",
    "    for j in range (n1d-1): qc.cx(j,j+1)\n",
    "    for j in range (n1d): qc.append(haar_random_gate, [j])\n",
    "    for j in range (n1d-1): qc.cx(j+1,j)\n",
    "\n",
    "def circ_haar_2d(qc,x2d,y2d):\n",
    "    for j in range (x2d*y2d): qc.append(haar_random_gate, [j])\n",
    "    for j in range (x2d-1):\n",
    "        for k in range (y2d-1): qc.cx(k*x2d+j,k*x2d+(j+1))\n",
    "    for j in range (x2d*y2d): qc.append(haar_random_gate, [j])\n",
    "    for j in range (x2d-1):\n",
    "        for k in range (y2d-1): qc.cx(k*x2d+(j+1),k*x2d+j)\n",
    "    for j in range (x2d*y2d): qc.append(haar_random_gate, [j])\n",
    "    for j in range (x2d-1):\n",
    "        for k in range (y2d-1): qc.cx(k*x2d+j,(k+1)*x2d+j)\n",
    "    for j in range (x2d*y2d): qc.append(haar_random_gate, [j])\n",
    "    for j in range (x2d-1):\n",
    "        for k in range (y2d-1): qc.cx((k+1)*x2d+j,k*x2d+j)\n",
    "\n",
    "def haar_1d(nrep,n1d):\n",
    "  hchain=[]\n",
    "  for j in range (nrep+1):\n",
    "      qc1 = QuantumCircuit(n1d)\n",
    "      for k in range (j): circ_haar_1d(qc1,n1d)\n",
    "      qc1.save_statevector()\n",
    "      state = sim.run(qc1,shots=1).result().get_statevector()\n",
    "      probs = Statevector(state).probabilities()\n",
    "      hstate=0;\n",
    "      for j in range(2**n1d): hstate+=-(probs[j]*np.log(probs[j]))\n",
    "      hchain.append(hstate)\n",
    "  hchain[0]=0\n",
    "  return hchain\n",
    "\n",
    "def haar_2d(nrep,x2d,y2d):\n",
    "  hchain=[]\n",
    "  for j in range (nrep+1):\n",
    "      qc1 = QuantumCircuit(x2d*y2d)\n",
    "      for k in range (j): circ_haar_2d(qc1,x2d,y2d)\n",
    "      qc1.save_statevector()\n",
    "      state = sim.run(qc1,shots=1).result().get_statevector()\n",
    "      probs = Statevector(state).probabilities()\n",
    "      hstate=0;\n",
    "      for j in range(2**(x2d*y2d)): hstate+=-(probs[j]*np.log(probs[j]))\n",
    "      hchain.append(hstate)\n",
    "  hchain[0]=0\n",
    "  return hchain"
   ]
  },
  {
   "cell_type": "code",
   "execution_count": 102,
   "metadata": {},
   "outputs": [],
   "source": [
    "def transverse_field_heisenberg(N, h, jx, jy, jz):\n",
    "    id = np.array([[1, 0], [0, 1]])\n",
    "    σx = np.array([[0, 1], [1, 0]])\n",
    "    σz = np.array([[1, 0], [0, -1]])\n",
    "    σy = np.array([[0, -1j], [1j, 0]])\n",
    "    first_term_ops = [id.copy() for _ in range(N)]\n",
    "    first_term_ops[0] = σx.copy()\n",
    "    first_term_ops[1] = σx.copy()\n",
    "    first_term_ops_n = [id.copy() for _ in range(N)]\n",
    "    first_term_ops_n[0] = σx.copy()\n",
    "    first_term_ops_n[1] = σx.copy()\n",
    "    second_term_ops = [id.copy() for _ in range(N)]\n",
    "    second_term_ops[0] = σy.copy()\n",
    "    second_term_ops[1] = σy.copy()\n",
    "    second_term_ops_n = [id.copy() for _ in range(N)]\n",
    "    second_term_ops_n[0] = σy.copy()\n",
    "    second_term_ops_n[1] = σy.copy()\n",
    "    third_term_ops = [id.copy() for _ in range(N)]\n",
    "    third_term_ops[0] = σz.copy()\n",
    "    third_term_ops[1] = σz.copy()\n",
    "    third_term_ops_n = [id.copy() for _ in range(N)]\n",
    "    third_term_ops_n[0] = σz.copy()\n",
    "    third_term_ops_n[1] = σz.copy()\n",
    "    fourth_term_ops = [id.copy() for _ in range(N)]\n",
    "    fourth_term_ops[0] = σx.copy()\n",
    "    fourth_term_ops_n = [id.copy() for _ in range(N)]\n",
    "    fourth_term_ops_n[0] = σx.copy()\n",
    "    H_dim = 2 ** N\n",
    "    H = np.zeros((H_dim, H_dim))\n",
    "    indexs = range(N)\n",
    "    for i in range(1, N):\n",
    "        first_term_tensor = np.kron(first_term_ops[N-2], first_term_ops[N-1])\n",
    "        for j in range(3, N+1):\n",
    "            first_term_tensor = np.kron(first_term_ops[N-j], first_term_tensor)\n",
    "        H = H - jx*first_term_tensor\n",
    "        indexs = np.roll(indexs, 1)\n",
    "        first_term_ops = [first_term_ops_n[k] for k in indexs]\n",
    "    indexs = range(N)\n",
    "    for i in range(1, N):\n",
    "        second_term_tensor = np.kron(second_term_ops[N-2], second_term_ops[N-1])\n",
    "        for j in range(3, N+1):\n",
    "            second_term_tensor = np.kron(second_term_ops[N-j], second_term_tensor)\n",
    "        H = H - jy*second_term_tensor\n",
    "        indexs = np.roll(indexs, 1)\n",
    "        second_term_ops = [second_term_ops_n[k] for k in indexs]\n",
    "    indexs = range(N)\n",
    "    for i in range(1, N):\n",
    "        third_term_tensor = np.kron(third_term_ops[N-2], third_term_ops[N-1])\n",
    "        for j in range(3, N+1):\n",
    "            third_term_tensor = np.kron(third_term_ops[N-j], third_term_tensor)\n",
    "        H = H - jz*third_term_tensor\n",
    "        indexs = np.roll(indexs, 1)\n",
    "        third_term_ops = [third_term_ops_n[k] for k in indexs]\n",
    "    indexs = range(N)\n",
    "    for i in range(N):\n",
    "        fourth_term_tensor = np.kron(fourth_term_ops[N-2], fourth_term_ops[N-1])\n",
    "        for j in range(3, N+1):\n",
    "            fourth_term_tensor = np.kron(fourth_term_ops[N-j], fourth_term_tensor)\n",
    "        H = H - h * fourth_term_tensor\n",
    "        indexs = np.roll(indexs, 1)\n",
    "        fourth_term_ops = [fourth_term_ops_n[k] for k in indexs]\n",
    "    return H"
   ]
  }
 ],
 "metadata": {
  "kernelspec": {
   "display_name": "Python 3",
   "language": "python",
   "name": "python3"
  },
  "language_info": {
   "codemirror_mode": {
    "name": "ipython",
    "version": 3
   },
   "file_extension": ".py",
   "mimetype": "text/x-python",
   "name": "python",
   "nbconvert_exporter": "python",
   "pygments_lexer": "ipython3",
   "version": "3.11.4"
  }
 },
 "nbformat": 4,
 "nbformat_minor": 2
}
