{
 "cells": [
  {
   "cell_type": "markdown",
   "metadata": {},
   "source": [
    "## FABLE: Fast Approximate Quantum Circuits for Block-Encodings\n",
    "\n",
    "### MOTIVACIÓN\n",
    "*La codificación por bloques de matrices* se ha convertido en un *elemento esencial* de los algoritmos cuánticos derivados de la transformación cuántica de valores singulares. \n",
    "\n",
    "Se estudiará FABLE, un *método para generar circuitos cuánticos aproximados para codificaciones de bloque de matrices de manera rápida*. Son de estructura simple, comprimibles y esparcibles y están formulados directamente en términos de compuertas de uno y dos qubits.\n",
    "\n",
    "Se proporcionará un *teorema de compresión* que relaciona el umbral de compresión con el error en la codificación por bloques.\n",
    "\n",
    "### Introducción\n",
    "\n",
    "La transformación cuántica de valores singurales (QVST) generaliza la qubitización y el procesamiento de señales cuánticas. Proporciona un marco unificador que abarca muchos algoritmos cuánticos que ofrecen una aceleración sobre el mejor algoritmo clásico conocido.\n",
    "\n",
    "Todos los algoritmos cuánticos derivados de la QVST se basan en la noción de una codificación de bloque de alguna matriz $A$ que representa el problema en cuestión.\n",
    "\n",
    "Estas matrices son operadores no unitarios y no pueden ejecutarse directamente en una computadora cuántica que solo realiza evolución unitaria. ***Esta restricción se supera mediante la ampliación del espacio de Hilbert e incorporando el operador no unitario en un estado específico de los qubits ancilla***.\n",
    "\n",
    "La incorporación más utilizada es una codificación de bloque, donde la matriz del sistema $A$ se incorpora en el *bloque principal líder* de una matriz unitaria más grande que actúa en todo el espacio de Hilbert.\n",
    "\n",
    "\\begin{equation}\n",
    "U=\n",
    "\\begin{bmatrix}\n",
    "A & * \\\\\n",
    "* & *\n",
    "\\end{bmatrix}\n",
    "\\end{equation}\n",
    "\n",
    "Y se dice que U codifica en bloque a A.\n",
    "\n",
    "Hasta ahora, los resultados de complejidad basados en QVST se han formulado en términos de *complejidad de consulta*, es decir, cuántas consultas a $U$ se requieren para resolver el problema. \n",
    "\n",
    " FABLE es un algoritmo eficiente para generar circuitos cuánticos que codifican en bloque matrices arbitrarias con la precisión prescrita. Constan de un oráculo de consulta, implementada con rotaciones $R_{y}$ y $R_{z}$ de un qubit, y compuertas $CNOT$ de dos qubits, adicional a algunas compuertas *Hadamard* y *SWAP*. \n",
    "\n",
    " La complejidad de compuertas de un circuito FABLE para martrices generales y no estructuradas de orden $N$ está acotado por $O(N^2)$ compuertas. Esta complejidad escala exponencialmente en el número de qubits para matrices densas, ya que codificar una matriz no estructurada de dimensión exponencial es una tarea difícil.\n",
    "\n",
    " Los problemas más importantes suelen ser muy estructurados y, dado que los circuitos FABLE pueden ser comprimidos, las complejidades de compuerta se ven reducidas. Este proceso ***puede*** interpretarse como un esparcimiento del circuito y de la matriz.\n",
    "\n",
    " El algoritmo FABLE aplica una *transformación de Walsh-Hadamard* a los datos de la matriz y realiza el *esparcimiento en el dominio de Walsh-Hadamard*. Las matrices FABLE dispersas corresponden a matrices que contienen muchos ceros en este dominio, lo que ***no necesariamente se corresponde con la dispersión en el dominio original***.\n",
    "\n",
    "\n",
    "\n"
   ]
  }
 ],
 "metadata": {
  "language_info": {
   "name": "python"
  },
  "orig_nbformat": 4
 },
 "nbformat": 4,
 "nbformat_minor": 2
}
