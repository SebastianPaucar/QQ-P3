{
 "cells": [
  {
   "cell_type": "markdown",
   "metadata": {},
   "source": [
    "## FABLE: Fast Approximate Quantum Circuits for Block-Encodings\n",
    "\n",
    "### MOTIVACIÓN\n",
    "*La codificación por bloques de matrices* se ha convertido en un *elemento esencial* de los algoritmos cuánticos derivados de la transformación cuántica de valores singulares. \n",
    "\n",
    "Se estudiará FABLE, un *método para generar circuitos cuánticos aproximados para codificaciones de bloque de matrices de manera rápida*. Son de estructura simple, comprimibles y esparcibles y están formulados directamente en términos de compuertas de uno y dos qubits.\n",
    "\n",
    "Se proporcionará un *teorema de compresión* que relaciona el umbral de compresión con el error en la codificación por bloques.\n",
    "\n",
    "### Introducción\n",
    "\n",
    "La transformación cuántica de valores singurales (QVST) generaliza la qubitización y el procesamiento de señales cuánticas. Proporciona un marco unificador que abarca muchos algoritmos cuánticos que ofrecen una aceleración sobre el mejor algoritmo clásico conocido.\n",
    "\n",
    "Todos los algoritmos cuánticos derivados de la QVST se basan en la noción de una codificación de bloque de alguna matriz $A$ que representa el problema en cuestión.\n",
    "\n",
    "Estas matrices son operadores no unitarios y no pueden ejecutarse directamente en una computadora cuántica que solo realiza evolución unitaria. ***Esta restricción se supera mediante la ampliación del espacio de Hilbert e incorporando el operador no unitario en un estado específico de los qubits ancilla***.\n",
    "\n",
    "La incorporación más utilizada es una codificación de bloque, donde la matriz del sistema $A$ se incorpora en el *bloque principal líder* de una matriz unitaria más grande que actúa en todo el espacio de Hilbert.\n"
   ]
  }
 ],
 "metadata": {
  "language_info": {
   "name": "python"
  },
  "orig_nbformat": 4
 },
 "nbformat": 4,
 "nbformat_minor": 2
}
