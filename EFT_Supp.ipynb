{
 "cells": [
  {
   "cell_type": "markdown",
   "metadata": {},
   "source": [
    "\n",
    "## Explorando las Propiedades a Temperatura Finita de Materiales con Computadoras Cuánticas (Información Adicional)\n",
    "\n",
    "### Comportamiento Haar-aleatorio de estados de circuitos aleatorios\n",
    "\n",
    "Una característica útil de los estados aleatorios $|\\Psi_{R}\\rangle$ es su entropía $H$:\n",
    "\n",
    "\\begin{equation}\n",
    "H_{\\Psi_{R}} = - \\sum_{k=1}^{2^n} p_{k} \\ln{(p_{k})}\n",
    "\\end{equation}\n",
    "\n",
    "Donde $p_{k} = \\lvert \\langle k| \\Psi_{R} \\rangle \\lvert ^2 = \\lvert c_{k} \\lvert^2$ .\n",
    "\n",
    "En un verdadero estado Haar-aleatorio, $p_k$ sigue la distribución de Porter-Thomas, lo cual lleva a $H_{Haar} = \\ln{2^N}-1+\\gamma$, con $\\gamma$ la constante de Euler-Mascheroni.\n",
    "\n",
    "![Alt text](EFT_Supp_F1.png)\n",
    "\n",
    "En la figura, se muestra la *entropía en estados aleatorios* de 5 qubits *preparados por circuitos aleatorios* para distintas *profundidades* $d$. Para casos con ruido y sin ruido. Ajustado a B-spline de orden 2.\n",
    "\n",
    "En la misma figura, para $d \\leq 10$, le entropía *de los circuitos ideales* se acerca al valor esperado del estado Haar-aleatorio.\n",
    "\n",
    "El ruido simulado del dispositivo hace que la entropía se acerque a un valor ligeramente más alto.\n",
    "\n"
   ]
  }
 ],
 "metadata": {
  "language_info": {
   "name": "python"
  },
  "orig_nbformat": 4
 },
 "nbformat": 4,
 "nbformat_minor": 2
}
