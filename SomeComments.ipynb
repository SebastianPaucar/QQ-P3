{
 "cells": [
  {
   "cell_type": "markdown",
   "metadata": {},
   "source": [
    "### Reunión 6 (Simulando helimagnetismo en un computador cuántico)\n",
    "Cualquier operación no unitaria es una operación que no puede ser revertida. Entonces, proyectar sobre bases computacionales (como la base Z) es irreversible.\n",
    "\n",
    "**Estudiaremos cómo es que las ancillas en el circuito de FABLE terminan siendo cero**. Esto corresponde a la parte final y vital del circuito.\n",
    "\n",
    "En todos los algoritmos de codificación-en-bloque siempre hay una advertencia: casi siempre será dificultoso que sus ancillas terminen en cero. \n",
    "En estos casos, lo que se hace es usar *amplificación de amplitud*, y se repite el proceso $\\dfrac{1}{\\lVert \\tilde{A}|\\psi\\rangle\\lVert}$ veces para que se pueda cumplir la probabilidad y se pueda tener éxito.\n",
    "\n",
    "Sí podemos obtener la amplitud de probabilidad de interés. Esto es una trampa, porque para obtenerlo sin usar el algoritmo de codificación-en-bloque, debe aplicarse el operador directamente sobre el estado de Haar. Esto supone que debe salirte el estado resultante que con el circuito. Repetimos luego cuantas veces como se indique.\n",
    "\n",
    "El concepto de **amplificación de amplitud** está relacionado con la mitigación de errores. Se codifica la amplitud en una fase que es más fácil de aumentar.\n",
    "\n",
    "A fines del proyecto, alteraremos las fases del estado de los qubits ancilla tal que favorezcamos la fase que nosotros queremos.\n",
    "\n",
    "La primera vez que nos encontremos con amplificación de amplitud será en el *algoritmo de Grover*.\n",
    "\n",
    "La idea es introducir una *especie de oráculo* (extra al oráculo de FABLE), tal que dicho oráculo promueva que **un estado sea más veces medido que el resto**. Esto es lo que hace la amplificación de amplitud: disminuye la probabilidad de algunos estados para favorecer el de otros. Esto es un efecto directo en la amplitud de probabilidad.\n",
    "\n",
    "La gracia de la codificación-en-bloque es que trataremos de que, *al llegar al estado deseado*, por la forma en que está entrelazado mis ancillas con el estado original, este entrelazamiento obligará a que las ancillas (al llegar al estado cero), salga justamente la aplicación esperada del operador.\n",
    "\n",
    "Regresando al circuito de FABLE, como podemos observar, el oráculo creado previamente debe ser alterado. Así, para poder aplicar a las ancillas la *amplificación de amplitud*. Queremos amplificar los estados $|0\\rangle$ y combinarlo con la codificación-en-bloque para obtener el estado que queremos.\n",
    "\n",
    "El estado $|0\\cdots 0\\rangle$ implica que el operador de densidad de las ancillas va a tener que ser un estado puro (no mixto). Si fuera mixto, no podría representarse como un vector de estados. Debe ser puro.\n",
    "\n",
    "Deberemos **combinar el algoritmo de codificación-en-bloque al algoritmo de FABLE** y así obtener los estados que necesitamos. De otra manera no se puede, ya que nunca converge. Si np usamos **amplificación de amplitud**, nunca se converge a $|0\\cdots 0\\rangle$. El operador de densidad debe salir estado puro.\n",
    "\n",
    "Solo un estado puro puede ser reducido a un vector de estados.\n",
    "\n",
    "#### Codificación-en-bloque de los operadores densidad\n"
   ]
  },
  {
   "cell_type": "code",
   "execution_count": 1,
   "metadata": {},
   "outputs": [
    {
     "name": "stdout",
     "output_type": "stream",
     "text": [
      "Collecting fable-circuitsNote: you may need to restart the kernel to use updated packages.\n",
      "\n",
      "  Downloading fable_circuits-1.0.1-py3-none-any.whl (5.6 kB)\n",
      "Requirement already satisfied: qiskit>=0.19.1 in c:\\users\\user\\appdata\\local\\programs\\python\\python311\\lib\\site-packages (from fable-circuits) (0.44.0)\n",
      "Requirement already satisfied: numpy>=1.20.3 in c:\\users\\user\\appdata\\local\\programs\\python\\python311\\lib\\site-packages (from fable-circuits) (1.25.2)\n",
      "Requirement already satisfied: qiskit-terra==0.25.0 in c:\\users\\user\\appdata\\local\\programs\\python\\python311\\lib\\site-packages (from qiskit>=0.19.1->fable-circuits) (0.25.0)\n",
      "Requirement already satisfied: rustworkx>=0.13.0 in c:\\users\\user\\appdata\\local\\programs\\python\\python311\\lib\\site-packages (from qiskit-terra==0.25.0->qiskit>=0.19.1->fable-circuits) (0.13.1)\n",
      "Requirement already satisfied: ply>=3.10 in c:\\users\\user\\appdata\\local\\programs\\python\\python311\\lib\\site-packages (from qiskit-terra==0.25.0->qiskit>=0.19.1->fable-circuits) (3.11)\n",
      "Requirement already satisfied: psutil>=5 in c:\\users\\user\\appdata\\local\\programs\\python\\python311\\lib\\site-packages (from qiskit-terra==0.25.0->qiskit>=0.19.1->fable-circuits) (5.9.5)\n",
      "Requirement already satisfied: scipy>=1.5 in c:\\users\\user\\appdata\\local\\programs\\python\\python311\\lib\\site-packages (from qiskit-terra==0.25.0->qiskit>=0.19.1->fable-circuits) (1.11.1)\n",
      "Requirement already satisfied: sympy>=1.3 in c:\\users\\user\\appdata\\local\\programs\\python\\python311\\lib\\site-packages (from qiskit-terra==0.25.0->qiskit>=0.19.1->fable-circuits) (1.12)\n",
      "Requirement already satisfied: dill>=0.3 in c:\\users\\user\\appdata\\local\\programs\\python\\python311\\lib\\site-packages (from qiskit-terra==0.25.0->qiskit>=0.19.1->fable-circuits) (0.3.7)\n",
      "Requirement already satisfied: python-dateutil>=2.8.0 in c:\\users\\user\\appdata\\local\\programs\\python\\python311\\lib\\site-packages (from qiskit-terra==0.25.0->qiskit>=0.19.1->fable-circuits) (2.8.2)\n",
      "Requirement already satisfied: stevedore>=3.0.0 in c:\\users\\user\\appdata\\local\\programs\\python\\python311\\lib\\site-packages (from qiskit-terra==0.25.0->qiskit>=0.19.1->fable-circuits) (5.1.0)\n",
      "Requirement already satisfied: six>=1.5 in c:\\users\\user\\appdata\\local\\programs\\python\\python311\\lib\\site-packages (from python-dateutil>=2.8.0->qiskit-terra==0.25.0->qiskit>=0.19.1->fable-circuits) (1.16.0)\n",
      "Requirement already satisfied: pbr!=2.1.0,>=2.0.0 in c:\\users\\user\\appdata\\local\\programs\\python\\python311\\lib\\site-packages (from stevedore>=3.0.0->qiskit-terra==0.25.0->qiskit>=0.19.1->fable-circuits) (5.11.1)\n",
      "Requirement already satisfied: mpmath>=0.19 in c:\\users\\user\\appdata\\local\\programs\\python\\python311\\lib\\site-packages (from sympy>=1.3->qiskit-terra==0.25.0->qiskit>=0.19.1->fable-circuits) (1.3.0)\n",
      "Installing collected packages: fable-circuits\n",
      "Successfully installed fable-circuits-1.0.1\n"
     ]
    },
    {
     "name": "stderr",
     "output_type": "stream",
     "text": [
      "\n",
      "[notice] A new release of pip is available: 23.1.2 -> 23.3.1\n",
      "[notice] To update, run: python.exe -m pip install --upgrade pip\n"
     ]
    }
   ],
   "source": [
    "pip install fable-circuits"
   ]
  },
  {
   "cell_type": "code",
   "execution_count": 2,
   "metadata": {},
   "outputs": [],
   "source": [
    "from fable import fable\n",
    "import numpy as np\n",
    "from qiskit import Aer\n",
    "simulator = Aer.get_backend(\"unitary_simulator\")"
   ]
  },
  {
   "cell_type": "code",
   "execution_count": 3,
   "metadata": {},
   "outputs": [
    {
     "data": {
      "text/plain": [
       "8.484167273119069e-16"
      ]
     },
     "execution_count": 3,
     "metadata": {},
     "output_type": "execute_result"
    }
   ],
   "source": [
    "\n",
    "# generate a random matrix and block encode it\n",
    "n = 3\n",
    "N = 2**n\n",
    "A = np.random.randn(N, N)\n",
    "circ, alpha = fable(A, 0)\n",
    "result = simulator.run(circ).result()\n",
    "unitary = result.get_unitary(circ)\n",
    "np.linalg.norm(alpha * N * unitary.data[0:N, 0:N] - A)/np.linalg.norm(A)"
   ]
  }
 ],
 "metadata": {
  "kernelspec": {
   "display_name": "Python 3",
   "language": "python",
   "name": "python3"
  },
  "language_info": {
   "codemirror_mode": {
    "name": "ipython",
    "version": 3
   },
   "file_extension": ".py",
   "mimetype": "text/x-python",
   "name": "python",
   "nbconvert_exporter": "python",
   "pygments_lexer": "ipython3",
   "version": "3.11.4"
  }
 },
 "nbformat": 4,
 "nbformat_minor": 2
}
